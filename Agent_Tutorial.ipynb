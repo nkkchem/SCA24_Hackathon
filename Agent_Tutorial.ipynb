{
  "nbformat": 4,
  "nbformat_minor": 0,
  "metadata": {
    "colab": {
      "provenance": [],
      "gpuType": "T4",
      "include_colab_link": true
    },
    "kernelspec": {
      "name": "python3",
      "display_name": "Python 3"
    },
    "language_info": {
      "name": "python"
    },
    "accelerator": "GPU"
  },
  "cells": [
    {
      "cell_type": "markdown",
      "metadata": {
        "id": "view-in-github",
        "colab_type": "text"
      },
      "source": [
        "<a href=\"https://colab.research.google.com/github/nkkchem/SCA24_Hackathon/blob/main/Agent_Tutorial.ipynb\" target=\"_parent\"><img src=\"https://colab.research.google.com/assets/colab-badge.svg\" alt=\"Open In Colab\"/></a>"
      ]
    },
    {
      "cell_type": "markdown",
      "source": [
        "# Large Language Model Agents in LangChain\n",
        "\n",
        "\n",
        "\n"
      ],
      "metadata": {
        "id": "ZvdvnD8EzvI0"
      }
    },
    {
      "cell_type": "markdown",
      "source": [
        "This is a brief introduction for how to use `LangChain` for the building of Large Language Model agents.\n",
        "\n",
        "LLM-Agents are essentially LLMs that are given tools specific to their desired task. This means that if you want an LLM to be able to configure a database, or access the internet, Agents are how you go about this task.\n",
        "\n",
        "This tutorial will step you through a potential application of LLMs - a pandas dataframe manager. We will see how to load in a local LLM through `vllm` as well as use an API-based model such as gpt-4, gemini-pro, or claude.\n",
        "\n",
        "This tutorial is adapted from a tutorial build by PineCone-IO at https://github.com/pinecone-io/examples"
      ],
      "metadata": {
        "id": "I0YFm2BlrzsT"
      }
    },
    {
      "cell_type": "markdown",
      "source": [
        "---"
      ],
      "metadata": {
        "id": "AFllW25VtZJA"
      }
    },
    {
      "cell_type": "markdown",
      "source": [
        "To start, let's install the packages we will be using for this example."
      ],
      "metadata": {
        "id": "z3pQ_JugtbMh"
      }
    },
    {
      "cell_type": "code",
      "source": [
        "!pip install -qU torch==2.3.0 vllm==0.4.2 langchain langchain_community langchain_core langchain_experimental openai google-search-results pandas langchain_openai datasets"
      ],
      "metadata": {
        "id": "5mIAiKk45l1T"
      },
      "execution_count": 1,
      "outputs": []
    },
    {
      "cell_type": "markdown",
      "source": [
        "## Pandas Agent - Setup\n",
        "\n",
        "Pretend we have an pandas dataframe (or multiple) that we would like to set up an LLM to interact with. This type of integration can provide a natural language way of gaining insights from your data. This can assist non-experts in utilizing your groups data to form insights.\n",
        "\n",
        "We will first need to create an pandas dataframe, then set up an LLM to interface with the data.\n",
        "\n",
        "⚠️ In this tutorial we will try and use local Google Colab GPU resources, but the free tier of colab prohibits larger models and may decrease the reliability of the LLM-Agents. For this situation, we will provide an additional loader for the OpenAI API models, but you will need an API-key to utilize this resoruce. ⚠️"
      ],
      "metadata": {
        "id": "h3VcwICxtf__"
      }
    },
    {
      "cell_type": "markdown",
      "source": [
        "----"
      ],
      "metadata": {
        "id": "rxuTdsmpvs9t"
      }
    },
    {
      "cell_type": "markdown",
      "source": [
        "## The Large Language Models\n",
        "\n",
        "In the following cells, we will create an LLM while pulling an example pandas dataframe from github. We will first provide instructions for spinning up a `vllm`-based LLM which pulls in models from `HuggingFace`. Then we will show the equivalent steps for OpenAI and Google.\n",
        "\n",
        "IMPORTANT: The rest of this notebook should only use one of the two approaches. Choose one of the 3 below cells to run."
      ],
      "metadata": {
        "id": "neL_6s7Svuac"
      }
    },
    {
      "cell_type": "code",
      "source": [
        "# RUN THIS CELL FOR VLLM MODELS\n",
        "\n",
        "import pandas as pd\n",
        "from langchain_experimental.agents.agent_toolkits import create_pandas_dataframe_agent\n",
        "from langchain_community.llms import VLLM\n",
        "\n",
        "llm = VLLM(\n",
        "    model=\"microsoft/Phi-3-mini-4k-instruct\", # Set some HF model name, we prefer smaller models since they have to fit in 15 GB of vram\n",
        "    trust_remote_code=True,  # mandatory for hf models\n",
        "    temperature=0,\n",
        "    dtype=\"float16\", # This is only required when using the T4 GPU on Colab\n",
        ")\n",
        "\n",
        "df = pd.read_csv(\n",
        "    \"https://raw.githubusercontent.com/pandas-dev/pandas/main/doc/data/titanic.csv\"\n",
        ")"
      ],
      "metadata": {
        "id": "JcPK5GERAJiO"
      },
      "execution_count": null,
      "outputs": []
    },
    {
      "cell_type": "code",
      "source": [
        "# RUN THIS CELL FOR OPENAI MODELS\n",
        "\n",
        "import os\n",
        "import pandas as pd\n",
        "from langchain_experimental.agents.agent_toolkits import create_pandas_dataframe_agent\n",
        "from langchain_openai import ChatOpenAI\n",
        "from google.colab import userdata\n",
        "\n",
        "os.environ[\"OPENAI_API_KEY\"] = userdata.get('OPENAI_API_KEY')\n",
        "\n",
        "llm = ChatOpenAI(model=\"gpt-3.5-turbo\", temperature=0) # You need to have you OPENAI_API Key set. If not add OPENAI_API_KEY to the secrets tab on the left side of the screen (click the key)\n",
        "\n",
        "df = pd.read_csv(\n",
        "    \"https://raw.githubusercontent.com/pandas-dev/pandas/main/doc/data/titanic.csv\"\n",
        ")"
      ],
      "metadata": {
        "id": "fD0nkAv7xATp"
      },
      "execution_count": 2,
      "outputs": []
    },
    {
      "cell_type": "code",
      "source": [
        "# RUN THIS CELL FOR GOOGLE MODELS\n",
        "\n",
        "from langchain_google_genai import ChatGoogleGenerativeAI\n",
        "\n",
        "os.environ[\"GOOGLE_API_KEY\"] = userdata.get(\"GOOGLE_API_KEY\")\n",
        "\n",
        "llm = ChatGoogleGenerativeAI(model=\"gemini-pro\", temperature=0)\n",
        "\n",
        "df = pd.read_csv(\n",
        "    \"https://raw.githubusercontent.com/pandas-dev/pandas/main/doc/data/titanic.csv\"\n",
        ")"
      ],
      "metadata": {
        "id": "SrPtadOFFtsU"
      },
      "execution_count": null,
      "outputs": []
    },
    {
      "cell_type": "markdown",
      "source": [
        "----"
      ],
      "metadata": {
        "id": "ZbGS3TPtyDk0"
      }
    },
    {
      "cell_type": "markdown",
      "source": [
        "## The Agent\n",
        "\n",
        "Now that we have our `llm` loaded, we can add that chain to an `AgentExecutor` type which will provide the background thought process that the agent should be able to handle.\n",
        "\n",
        "There are a few different pre-made Agent types that LangChain provides:\n",
        "\n",
        "1. Zero Shot React\n",
        "2. Conversational React\n",
        "3. React Docstore\n",
        "\n",
        "or variations of these, which can be found in the documentation [here](https://api.python.langchain.com/en/latest/agents/langchain.agents.agent_types.AgentType.html)\n",
        "\n",
        "\n",
        "---\n",
        "\n",
        "We are going to use the Zero Shot React agent type. This type of agent is used to perform 'zero shot' tasks on the input. That means that we will not have several, interdependent interactions but only one. In other words, this agent will have no memory."
      ],
      "metadata": {
        "id": "Bc0dRUB2yE4e"
      }
    },
    {
      "cell_type": "code",
      "source": [
        "from langchain.agents import create_sql_agent\n",
        "from langchain.agents.agent_types import AgentType\n",
        "\n",
        "agent_executor = create_pandas_dataframe_agent(\n",
        "    llm=llm,\n",
        "    df=df,\n",
        "    verbose=True,\n",
        "    agent_type=AgentType.ZERO_SHOT_REACT_DESCRIPTION,\n",
        "    handle_parsing_errors=True,\n",
        ")"
      ],
      "metadata": {
        "id": "5Wd11tgZCYk3",
        "colab": {
          "base_uri": "https://localhost:8080/"
        },
        "outputId": "dc27f072-6557-42fb-88e8-7cfb844b5bd4"
      },
      "execution_count": 3,
      "outputs": [
        {
          "output_type": "stream",
          "name": "stderr",
          "text": [
            "/usr/local/lib/python3.10/dist-packages/langchain_experimental/agents/agent_toolkits/pandas/base.py:249: UserWarning: Received additional kwargs {'handle_parsing_errors': True} which are no longer supported.\n",
            "  warnings.warn(\n"
          ]
        }
      ]
    },
    {
      "cell_type": "markdown",
      "source": [
        "### Single DataFrame\n",
        "\n",
        "Now we can run some example questions to see how well the agent handles the example dataframe."
      ],
      "metadata": {
        "id": "JE9Y296F_BoG"
      }
    },
    {
      "cell_type": "code",
      "source": [
        "agent_executor.invoke(\n",
        "    \"how many rows are there?\"\n",
        ")"
      ],
      "metadata": {
        "id": "MmKF2VFc-5On",
        "colab": {
          "base_uri": "https://localhost:8080/"
        },
        "outputId": "b9587f4e-86aa-41aa-d442-6ccd29ca8b82"
      },
      "execution_count": 4,
      "outputs": [
        {
          "output_type": "stream",
          "name": "stdout",
          "text": [
            "\n",
            "\n",
            "\u001b[1m> Entering new AgentExecutor chain...\u001b[0m\n",
            "\u001b[32;1m\u001b[1;3mThought: To find out how many rows are in the dataframe, I can use the `shape` attribute of the dataframe.\n",
            "Action: python_repl_ast\n",
            "Action Input: df.shape[0]\u001b[0m\u001b[36;1m\u001b[1;3m891\u001b[0m\u001b[32;1m\u001b[1;3mI now know the final answer\n",
            "Final Answer: There are 891 rows in the dataframe.\u001b[0m\n",
            "\n",
            "\u001b[1m> Finished chain.\u001b[0m\n"
          ]
        },
        {
          "output_type": "execute_result",
          "data": {
            "text/plain": [
              "{'input': 'how many rows are there?',\n",
              " 'output': 'There are 891 rows in the dataframe.'}"
            ]
          },
          "metadata": {},
          "execution_count": 4
        }
      ]
    },
    {
      "cell_type": "code",
      "source": [
        "agent_executor.run(\"how many people have more than 3 siblings\")"
      ],
      "metadata": {
        "colab": {
          "base_uri": "https://localhost:8080/",
          "height": 288
        },
        "id": "X2RXZo3Sg3-E",
        "outputId": "069ba0fd-dbf6-49d4-d15d-c5aee3b2c614"
      },
      "execution_count": 5,
      "outputs": [
        {
          "output_type": "stream",
          "name": "stderr",
          "text": [
            "/usr/local/lib/python3.10/dist-packages/langchain_core/_api/deprecation.py:119: LangChainDeprecationWarning: The method `Chain.run` was deprecated in langchain 0.1.0 and will be removed in 0.3.0. Use invoke instead.\n",
            "  warn_deprecated(\n"
          ]
        },
        {
          "output_type": "stream",
          "name": "stdout",
          "text": [
            "\n",
            "\n",
            "\u001b[1m> Entering new AgentExecutor chain...\u001b[0m\n",
            "\u001b[32;1m\u001b[1;3mThought: We need to filter the dataframe based on the condition of having more than 3 siblings and then count the number of rows that meet this condition.\n",
            "\n",
            "Action: python_repl_ast\n",
            "Action Input: df[df['SibSp'] > 3]['PassengerId'].count()\u001b[0m\u001b[36;1m\u001b[1;3m30\u001b[0m\u001b[32;1m\u001b[1;3mI now know the final answer\n",
            "\n",
            "Final Answer: 30\u001b[0m\n",
            "\n",
            "\u001b[1m> Finished chain.\u001b[0m\n"
          ]
        },
        {
          "output_type": "execute_result",
          "data": {
            "text/plain": [
              "'30'"
            ],
            "application/vnd.google.colaboratory.intrinsic+json": {
              "type": "string"
            }
          },
          "metadata": {},
          "execution_count": 5
        }
      ]
    },
    {
      "cell_type": "code",
      "source": [
        "agent_executor.invoke(\"whats the square root of the average age?\")"
      ],
      "metadata": {
        "id": "2Ol8vKY-hlSd",
        "colab": {
          "base_uri": "https://localhost:8080/"
        },
        "outputId": "d38da42e-3fb0-468c-f909-2ee75b88af31"
      },
      "execution_count": 6,
      "outputs": [
        {
          "output_type": "stream",
          "name": "stdout",
          "text": [
            "\n",
            "\n",
            "\u001b[1m> Entering new AgentExecutor chain...\u001b[0m\n",
            "\u001b[32;1m\u001b[1;3mThought: To find the square root of the average age, we need to calculate the average age first.\n",
            "Action: python_repl_ast\n",
            "Action Input: df['Age'].mean()\u001b[0m\u001b[36;1m\u001b[1;3m29.69911764705882\u001b[0m\u001b[32;1m\u001b[1;3mNow that we have the average age, let's calculate the square root.\n",
            "Action: python_repl_ast\n",
            "Action Input: import math; math.sqrt(df['Age'].mean())\u001b[0m\u001b[36;1m\u001b[1;3m5.449689683556195\u001b[0m\u001b[32;1m\u001b[1;3mI now know the final answer\n",
            "Final Answer: The square root of the average age is approximately 5.45\u001b[0m\n",
            "\n",
            "\u001b[1m> Finished chain.\u001b[0m\n"
          ]
        },
        {
          "output_type": "execute_result",
          "data": {
            "text/plain": [
              "{'input': 'whats the square root of the average age?',\n",
              " 'output': 'The square root of the average age is approximately 5.45'}"
            ]
          },
          "metadata": {},
          "execution_count": 6
        }
      ]
    },
    {
      "cell_type": "markdown",
      "source": [
        "### Multiple DataFrames\n",
        "\n",
        "Now that we show that we can run the LLM Agent over a single dataframe, we can add in a slightly altered version of the dataframe and show how we can pass multiple dataframes to the agent."
      ],
      "metadata": {
        "id": "r9OPc6ZW_Jq4"
      }
    },
    {
      "cell_type": "code",
      "source": [
        "df1 = df.copy()\n",
        "df1[\"Age\"] = df1[\"Age\"].fillna(df1[\"Age\"].mean())"
      ],
      "metadata": {
        "id": "5Ux21MFP9POz"
      },
      "execution_count": 7,
      "outputs": []
    },
    {
      "cell_type": "code",
      "source": [
        "agent_executor = create_pandas_dataframe_agent(\n",
        "    llm=llm,\n",
        "    df=[df,df1],\n",
        "    verbose=True,\n",
        "    agent_type=AgentType.ZERO_SHOT_REACT_DESCRIPTION,\n",
        "    handle_parsing_errors=True,\n",
        ")"
      ],
      "metadata": {
        "colab": {
          "base_uri": "https://localhost:8080/"
        },
        "id": "q18p8fIW9W8p",
        "outputId": "bd7b047a-8433-4f59-ae25-6df5d50dbd97"
      },
      "execution_count": 8,
      "outputs": [
        {
          "output_type": "stream",
          "name": "stderr",
          "text": [
            "/usr/local/lib/python3.10/dist-packages/langchain_experimental/agents/agent_toolkits/pandas/base.py:249: UserWarning: Received additional kwargs {'handle_parsing_errors': True} which are no longer supported.\n",
            "  warnings.warn(\n"
          ]
        }
      ]
    },
    {
      "cell_type": "code",
      "source": [
        "agent_executor.invoke(\"Count how many rows in the age column are different?\")"
      ],
      "metadata": {
        "colab": {
          "base_uri": "https://localhost:8080/"
        },
        "id": "7PtpmNAr9cCj",
        "outputId": "2e437e8b-4866-49bb-e37d-cce556c32b62"
      },
      "execution_count": 15,
      "outputs": [
        {
          "output_type": "stream",
          "name": "stdout",
          "text": [
            "\n",
            "\n",
            "\u001b[1m> Entering new AgentExecutor chain...\u001b[0m\n",
            "\u001b[32;1m\u001b[1;3mAction: [python_repl_ast]\n",
            "Action Input: df1['Age'].nunique()\u001b[0m[python_repl_ast] is not a valid tool, try one of [python_repl_ast].\u001b[32;1m\u001b[1;3mI should use the python_repl_ast tool to count the unique values in the 'Age' column for both dataframes.\n",
            "Action: [python_repl_ast]\n",
            "Action Input: df1['Age'].nunique()\u001b[0m[python_repl_ast] is not a valid tool, try one of [python_repl_ast].\u001b[32;1m\u001b[1;3mI should use the python_repl_ast tool to count the unique values in the 'Age' column for both dataframes.\n",
            "Action: [python_repl_ast]\n",
            "Action Input: df1['Age'].nunique()\u001b[0m[python_repl_ast] is not a valid tool, try one of [python_repl_ast].\u001b[32;1m\u001b[1;3mI should use the python_repl_ast tool to count the unique values in the 'Age' column for both dataframes.\n",
            "Action: [python_repl_ast]\n",
            "Action Input: df1['Age'].nunique()\u001b[0m[python_repl_ast] is not a valid tool, try one of [python_repl_ast].\u001b[32;1m\u001b[1;3mI should use the python_repl_ast tool to count the unique values in the 'Age' column for both dataframes.\n",
            "Action: [python_repl_ast]\n",
            "Action Input: df1['Age'].nunique()\u001b[0m[python_repl_ast] is not a valid tool, try one of [python_repl_ast].\u001b[32;1m\u001b[1;3mI should use the python_repl_ast tool to count the unique values in the 'Age' column for both dataframes.\n",
            "Action: [python_repl_ast]\n",
            "Action Input: df1['Age'].nunique()\u001b[0m[python_repl_ast] is not a valid tool, try one of [python_repl_ast].\u001b[32;1m\u001b[1;3mI should use the python_repl_ast tool to count the unique values in the 'Age' column for both dataframes.\n",
            "Action: [python_repl_ast]\n",
            "Action Input: df1['Age'].nunique()\u001b[0m[python_repl_ast] is not a valid tool, try one of [python_repl_ast].\u001b[32;1m\u001b[1;3mI should use the python_repl_ast tool to count the unique values in the 'Age' column for both dataframes.\n",
            "Action: [python_repl_ast]\n",
            "Action Input: df1['Age'].nunique()\u001b[0m[python_repl_ast] is not a valid tool, try one of [python_repl_ast].\u001b[32;1m\u001b[1;3mI should use the python_repl_ast tool to count the unique values in the 'Age' column for both dataframes.\n",
            "Action: [python_repl_ast]\n",
            "Action Input: df1['Age'].nunique()\u001b[0m[python_repl_ast] is not a valid tool, try one of [python_repl_ast].\u001b[32;1m\u001b[1;3mI should use the python_repl_ast tool to count the unique values in the 'Age' column for both dataframes.\n",
            "Action: [python_repl_ast]\n",
            "Action Input: df1['Age'].nunique()\u001b[0m[python_repl_ast] is not a valid tool, try one of [python_repl_ast].\u001b[32;1m\u001b[1;3mI should use the python_repl_ast tool to count the unique values in the 'Age' column for both dataframes.\n",
            "Action: [python_repl_ast]\n",
            "Action Input: df1['Age'].nunique()\u001b[0m[python_repl_ast] is not a valid tool, try one of [python_repl_ast].\u001b[32;1m\u001b[1;3mI should use the python_repl_ast tool to count the unique values in the 'Age' column for both dataframes.\n",
            "Action: [python_repl_ast]\n",
            "Action Input: df1['Age'].nunique()\u001b[0m[python_repl_ast] is not a valid tool, try one of [python_repl_ast].\u001b[32;1m\u001b[1;3mI should use the python_repl_ast tool to count the unique values in the 'Age' column for both dataframes.\n",
            "Action: [python_repl_ast]\n",
            "Action Input: df1['Age'].nunique()\u001b[0m[python_repl_ast] is not a valid tool, try one of [python_repl_ast].\u001b[32;1m\u001b[1;3mI should use the python_repl_ast tool to count the unique values in the 'Age' column for both dataframes.\n",
            "Action: [python_repl_ast]\n",
            "Action Input: df1['Age'].nunique()\u001b[0m[python_repl_ast] is not a valid tool, try one of [python_repl_ast].\u001b[32;1m\u001b[1;3mI should use the python_repl_ast tool to count the unique values in the 'Age' column for both dataframes.\n",
            "Action: [python_repl_ast]\n",
            "Action Input: df1['Age'].nunique()\u001b[0m[python_repl_ast] is not a valid tool, try one of [python_repl_ast].\u001b[32;1m\u001b[1;3m\u001b[0m\n",
            "\n",
            "\u001b[1m> Finished chain.\u001b[0m\n"
          ]
        },
        {
          "output_type": "execute_result",
          "data": {
            "text/plain": [
              "{'input': 'Count how many rows in the age column are different? python_repl_ast',\n",
              " 'output': 'Agent stopped due to iteration limit or time limit.'}"
            ]
          },
          "metadata": {},
          "execution_count": 15
        }
      ]
    },
    {
      "cell_type": "markdown",
      "source": [
        "## Scientific Example - Dataframe of Cells\n",
        "\n",
        "Let's look at a scientific example. We will load in a dataframe that contains information on cells. These cells are located in various tissue types and organisms. We can use this to illustrate how LLM-agents might be integrated into scientific databases.\n"
      ],
      "metadata": {
        "id": "IhzQsg4dAult"
      }
    },
    {
      "cell_type": "code",
      "source": [
        "df = pd.read_parquet(\"hf://datasets/pankajrajdeo/PubChem_cell/PubChem_cell_text.parquet\")"
      ],
      "metadata": {
        "id": "C9fTwNcx9gLA"
      },
      "execution_count": 17,
      "outputs": []
    },
    {
      "cell_type": "code",
      "source": [
        "agent_executor = create_pandas_dataframe_agent(\n",
        "    llm=llm,\n",
        "    df=df,\n",
        "    verbose=True,\n",
        "    agent_type=AgentType.ZERO_SHOT_REACT_DESCRIPTION,\n",
        "    handle_parsing_errors=True,\n",
        ")"
      ],
      "metadata": {
        "colab": {
          "base_uri": "https://localhost:8080/"
        },
        "id": "ro-yYlgPBnfO",
        "outputId": "e774aeaf-5b4c-4abc-82af-7c34fd10a44f"
      },
      "execution_count": 18,
      "outputs": [
        {
          "output_type": "stream",
          "name": "stderr",
          "text": [
            "/usr/local/lib/python3.10/dist-packages/langchain_experimental/agents/agent_toolkits/pandas/base.py:249: UserWarning: Received additional kwargs {'handle_parsing_errors': True} which are no longer supported.\n",
            "  warnings.warn(\n"
          ]
        }
      ]
    },
    {
      "cell_type": "code",
      "source": [
        "agent_executor.invoke(\"Count how many tissue types there are.\")"
      ],
      "metadata": {
        "colab": {
          "base_uri": "https://localhost:8080/"
        },
        "id": "JYvZuGTYDtqu",
        "outputId": "83098986-df9c-4f7a-ce6f-0fdedfc614ee"
      },
      "execution_count": 26,
      "outputs": [
        {
          "output_type": "stream",
          "name": "stdout",
          "text": [
            "\n",
            "\n",
            "\u001b[1m> Entering new AgentExecutor chain...\u001b[0m\n",
            "\u001b[32;1m\u001b[1;3mThought: We need to find the unique values in the 'tissue' column to count how many tissue types are there.\n",
            "Action: python_repl_ast\n",
            "Action Input: df['tissue'].nunique()\u001b[0m\u001b[36;1m\u001b[1;3m57\u001b[0m\u001b[32;1m\u001b[1;3mThere are 57 unique tissue types in the dataframe.\n",
            "Final Answer: 57\u001b[0m\n",
            "\n",
            "\u001b[1m> Finished chain.\u001b[0m\n"
          ]
        },
        {
          "output_type": "execute_result",
          "data": {
            "text/plain": [
              "{'input': 'Count how many tissue types are there?', 'output': '57'}"
            ]
          },
          "metadata": {},
          "execution_count": 26
        }
      ]
    },
    {
      "cell_type": "code",
      "source": [
        "agent_executor.invoke(\"What is the most common organism?\")"
      ],
      "metadata": {
        "colab": {
          "base_uri": "https://localhost:8080/"
        },
        "id": "wIezzjYODwAS",
        "outputId": "1b729cc7-ce88-4df0-9a84-cdb8d078e5df"
      },
      "execution_count": 27,
      "outputs": [
        {
          "output_type": "stream",
          "name": "stdout",
          "text": [
            "\n",
            "\n",
            "\u001b[1m> Entering new AgentExecutor chain...\u001b[0m\n",
            "\u001b[32;1m\u001b[1;3mThought: To find the most common organism, we need to count the occurrences of each organism in the dataframe.\n",
            "Action: Use value_counts() on the 'organism' column.\n",
            "Action Input: df['organism'].value_counts()\u001b[0mUse value_counts() on the 'organism' column. is not a valid tool, try one of [python_repl_ast].\u001b[32;1m\u001b[1;3mI will use python_repl_ast to get the value counts of the 'organism' column.\n",
            "Action: python_repl_ast\n",
            "Action Input: df['organism'].value_counts()\u001b[0m\u001b[36;1m\u001b[1;3morganism\n",
            "Homo sapiens (human)                                 2403\n",
            "Cricetulus griseus (Chinese hamster)                  214\n",
            "Mus musculus (house mouse)                            207\n",
            "Rattus norvegicus (Norway rat)                         72\n",
            "Bos taurus (cattle)                                    48\n",
            "                                                     ... \n",
            "Pelodiscus sinensis (Chinese soft-shelled turtle)       1\n",
            "Gallus gallus (chicken)                                 1\n",
            "Leontocebus nigricollis (black-and-red tamarin)         1\n",
            "Tadarida brasiliensis (Brazilian free-tailed bat)       1\n",
            "Tursiops truncatus (common bottlenose dolphin)          1\n",
            "Name: count, Length: 89, dtype: int64\u001b[0m\u001b[32;1m\u001b[1;3mI now know the final answer. \n",
            "Final Answer: The most common organism in the dataframe is Homo sapiens (human) with 2403 occurrences.\u001b[0m\n",
            "\n",
            "\u001b[1m> Finished chain.\u001b[0m\n"
          ]
        },
        {
          "output_type": "execute_result",
          "data": {
            "text/plain": [
              "{'input': 'What is the most common organism?',\n",
              " 'output': 'The most common organism in the dataframe is Homo sapiens (human) with 2403 occurrences.'}"
            ]
          },
          "metadata": {},
          "execution_count": 27
        }
      ]
    },
    {
      "cell_type": "code",
      "source": [],
      "metadata": {
        "id": "bwQtEi78EQPF"
      },
      "execution_count": null,
      "outputs": []
    }
  ]
}