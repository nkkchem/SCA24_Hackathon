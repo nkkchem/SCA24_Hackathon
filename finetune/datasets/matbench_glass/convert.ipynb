{
 "cells": [
  {
   "cell_type": "code",
   "execution_count": 17,
   "id": "0498b113",
   "metadata": {},
   "outputs": [],
   "source": [
    "import pandas as pd\n",
    "import random\n",
    "\n",
    "df = pd.read_csv('matbench_glass.csv')\n",
    "slot = {\"composition\":\"composition\", \n",
    "        \"glass formation ability\":\"glass formation ability\"}\n",
    "pair1 = [(\"composition\", \"glass formation ability\")]\n",
    "data_list = []\n",
    "for df_slice in df.iterrows():\n",
    "    for p in pair1:\n",
    "        tmp_dict = {}\n",
    "        ran = random.randint(0,1)\n",
    "        ran1 = random.randint(0,1)\n",
    "        if ran1 == 0:\n",
    "            form = \"glass formation ability\"\n",
    "        elif ran1 == 1:\n",
    "            form = \"glass-forming ability\"\n",
    "        if ran == 0:\n",
    "            question = \"Does given \"+ p[0]+\" have \"+ form + \"? ->\"\n",
    "        elif ran == 1:\n",
    "            question = \"Tell me if given \"+ p[0]+ \" has \"+ form + \". ->\"\n",
    "        tmp_dict[\"instruction\"] = question\n",
    "        tmp_dict[\"input\"] = \" \"+str(df_slice[1][slot[p[0]]])+\"\\n\"\n",
    "        if str(df_slice[1][slot[p[1]]]) == \"True\":\n",
    "            answer = \" Yes, \" + str(df_slice[1][slot[p[0]]]) + \" has \"+form+\".\\n\"\n",
    "        else:\n",
    "            answer = \" No, \"+ str(df_slice[1][slot[p[0]]]) + \" does not have \"+form+\".\\n\"\n",
    "        tmp_dict[\"output\"] = answer\n",
    "        data_list.append(tmp_dict)"
   ]
  },
  {
   "cell_type": "code",
   "execution_count": null,
   "id": "67848179",
   "metadata": {},
   "outputs": [],
   "source": [
    "import json\n",
    "\n",
    "# https://github.com/psobko/Common-English-Nouns\n",
    "with open('../2325_nouns.json', 'r', encoding='utf-8') as f:\n",
    "    nouns = json.load(f)\n",
    "print(len(data_list))\n",
    "# add no-answer question according to length of data_list\n",
    "add = int(len(data_list)/30)\n",
    "print(add)\n",
    "add_nouns = random.sample(nouns, add)\n",
    "print(add_nouns[:10])\n",
    "for an in add_nouns:\n",
    "    tmp_dict = {}\n",
    "    ran = random.randint(0,1)\n",
    "    ran1 = random.randint(0,1)\n",
    "    if ran1 == 0:\n",
    "        form = \"glass formation ability\"\n",
    "    elif ran1 == 1:\n",
    "        form = \"glass-forming ability\"\n",
    "    if ran == 0:\n",
    "        question = \"Does given \"+ p[0]+\" have \"+ form + \"? ->\"\n",
    "    elif ran == 1:\n",
    "        question = \"Tell me if given \"+ p[0]+ \" has \"+ form + \". ->\"\n",
    "    tmp_dict[\"instruction\"] = question\n",
    "    tmp_dict[\"input\"] = \" \"+an+\"\\n\"\n",
    "    tmp_dict[\"output\"] = \" \"+an+\" is not a composition and it has no relation with \"+form\".\\n\"\n",
    "    data_list.append(tmp_dict)\n",
    "random.shuffle(data_list)"
   ]
  },
  {
   "cell_type": "code",
   "execution_count": 18,
   "id": "101bf6e1",
   "metadata": {},
   "outputs": [],
   "source": [
    "import json\n",
    "\n",
    "json_str = json.dumps(data_list, indent=4)\n",
    "with open('matbench_glass.json', 'w', encoding='utf-8') as json_file:\n",
    "    json_file.write(json_str)"
   ]
  },
  {
   "cell_type": "code",
   "execution_count": null,
   "id": "ce1a9f8a",
   "metadata": {},
   "outputs": [],
   "source": []
  }
 ],
 "metadata": {
  "kernelspec": {
   "display_name": "Python 3",
   "language": "python",
   "name": "python3"
  },
  "language_info": {
   "codemirror_mode": {
    "name": "ipython",
    "version": 3
   },
   "file_extension": ".py",
   "mimetype": "text/x-python",
   "name": "python",
   "nbconvert_exporter": "python",
   "pygments_lexer": "ipython3",
   "version": "3.6.13"
  }
 },
 "nbformat": 4,
 "nbformat_minor": 5
}
