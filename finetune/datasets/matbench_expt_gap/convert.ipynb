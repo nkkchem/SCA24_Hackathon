{
 "cells": [
  {
   "cell_type": "code",
   "execution_count": 1,
   "id": "0498b113",
   "metadata": {},
   "outputs": [],
   "source": [
    "import pandas as pd\n",
    "import random\n",
    "\n",
    "df = pd.read_csv('matbench_expt_gap.csv')\n",
    "slot = {\"composition\":\"composition\", \n",
    "        \"band gap\":\"band gap\"}\n",
    "pair1 = [(\"band gap\", \"composition\")]\n",
    "data_list = []\n",
    "for df_slice in df.iterrows():\n",
    "    for p in pair1:\n",
    "        tmp_dict = {}\n",
    "        ran = random.randint(0,3)\n",
    "        if ran == 0:\n",
    "            question = \"What is \"+ p[0]+\" of given \"+ p[1] + \"? ->\"\n",
    "        elif ran == 1:\n",
    "            question = \"Write \"+ p[0]+ \" of given \"+ p[1] + \". ->\"\n",
    "        elif ran == 2:\n",
    "            question = \"Given \" + p[1] + \", write its \"+ p[0] + \". ->\"\n",
    "        elif ran == 3:\n",
    "            question = \"Tell me \" + p[0] + \" of given \" + p[1] + \". ->\"\n",
    "        elif ran == 4:\n",
    "            question = \"Given \" + p[1] + \", what is its \"+ p[0] + \"? ->\"\n",
    "        tmp_dict[\"instruction\"] = question\n",
    "        tmp_dict[\"input\"] = str(df_slice[1][slot[p[1]]])+\"\\n\"\n",
    "        tmp_dict[\"output\"] = \" \"+str(df_slice[1][slot[p[0]]])+\"\\n\"\n",
    "        data_list.append(tmp_dict)"
   ]
  },
  {
   "cell_type": "code",
   "execution_count": 2,
   "id": "101bf6e1",
   "metadata": {},
   "outputs": [],
   "source": [
    "import json\n",
    "\n",
    "json_str = json.dumps(data_list, indent=4)\n",
    "with open('matbench_expt_gap.json', 'w', encoding='utf-8') as json_file:\n",
    "    json_file.write(json_str)"
   ]
  },
  {
   "cell_type": "code",
   "execution_count": null,
   "id": "ce1a9f8a",
   "metadata": {},
   "outputs": [],
   "source": []
  }
 ],
 "metadata": {
  "kernelspec": {
   "display_name": "Python 3",
   "language": "python",
   "name": "python3"
  },
  "language_info": {
   "codemirror_mode": {
    "name": "ipython",
    "version": 3
   },
   "file_extension": ".py",
   "mimetype": "text/x-python",
   "name": "python",
   "nbconvert_exporter": "python",
   "pygments_lexer": "ipython3",
   "version": "3.8.8"
  }
 },
 "nbformat": 4,
 "nbformat_minor": 5
}
