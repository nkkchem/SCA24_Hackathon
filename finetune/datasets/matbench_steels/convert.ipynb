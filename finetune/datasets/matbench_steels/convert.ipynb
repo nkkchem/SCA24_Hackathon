{
 "cells": [
  {
   "cell_type": "code",
   "execution_count": 30,
   "id": "0498b113",
   "metadata": {},
   "outputs": [],
   "source": [
    "import pandas as pd\n",
    "import random\n",
    "\n",
    "df = pd.read_csv('matbench_steels.csv')\n",
    "# key=csv column name, value=slot in Q\n",
    "slot = {\"composition\":\"composition\"}\n",
    "data_list = []\n",
    "for s in slot.keys():\n",
    "    for i, element in enumerate(df[s]):\n",
    "        tmp_dict = {}\n",
    "        ran = random.randint(0,2)\n",
    "\n",
    "        # What will be yield strength of composition at 800-1200 °C \n",
    "        if ran == 0:\n",
    "            question = \"What will be the yield strength of given composition at 800-1200 °C? ->\"\n",
    "        elif ran == 1:\n",
    "            question = \"Write a possible yield strength of given composition at 800-1200 °C. ->\"\n",
    "        elif ran == 2:\n",
    "            question = \"Given composition, write its potential yield strength at 800-1200 °C. ->\"\n",
    "        answer = df['yield strength'][i]\n",
    "        tmp_dict[\"instruction\"] = question\n",
    "        tmp_dict[\"input\"] = \" \"+ element +\"\\n\"\n",
    "        tmp_dict[\"output\"] = \" \"+str(answer)+\"\\n\"\n",
    "        data_list.append(tmp_dict)"
   ]
  },
  {
   "cell_type": "code",
   "execution_count": 31,
   "id": "166b1e11",
   "metadata": {},
   "outputs": [],
   "source": [
    "import json\n",
    "\n",
    "# https://github.com/psobko/Common-English-Nouns\n",
    "with open('2325_nouns.json', 'r', encoding='utf-8') as f:\n",
    "    nouns = json.load(f)"
   ]
  },
  {
   "cell_type": "code",
   "execution_count": 32,
   "id": "52c48afe",
   "metadata": {},
   "outputs": [
    {
     "name": "stdout",
     "output_type": "stream",
     "text": [
      "312\n",
      "6\n",
      "10\n",
      "['Fe0.750C0.00184Mn0.000101Si0.000394Cr0.133Ni0.0814Mo0.0121V0.000109Nb0.0000596Co0.0000939Al0.0205', 'Fe0.755C0.00185Mn0.000101Si0.000198Cr0.134Ni0.0794Mo0.0127V0.000109Nb0.0000598Co0.0000942Al0.0158Ti0.000232', 'Fe0.671C0.000470Mn0.000514Si0.00100Cr0.000109Ni0.141Mo0.00882V0.000111Nb0.0000607Co0.147Al0.0159Ti0.0137', 'Fe0.682C0.00877Mn0.000202Si0.00967Cr0.134Ni0.00907Mo0.00861V0.00501Nb0.0000597Co0.142Al0.000616', 'Fe0.802C0.000468Mn0.000512Si0.00120Cr0.0526Ni0.111Mo0.0173V0.000110Nb0.0000605Co0.0000954Al0.0121Ti0.00258', 'Fe0.721C0.00970Mn0.000101Si0.0119Cr0.0875Ni0.0246Mo0.00752V0.00316Nb0.0000597Co0.134Al0.000617Ti0.000232']\n"
     ]
    }
   ],
   "source": [
    "print(len(data_list))\n",
    "# add no-answer question according to length of data_list\n",
    "add_c = int(len(data_list)/50)\n",
    "add_n = int(len(data_list)/30)\n",
    "print(add_c)\n",
    "print(add_n)\n",
    "add_comps = random.sample(df['composition'].tolist(), add_c)\n",
    "print(add_comps)\n",
    "\n",
    "for an in add_comps:\n",
    "    tmp_dict = {}\n",
    "    ran1 = random.randint(0,2)\n",
    "    ran2 = random.sample(list(slot.values()), 1)[0]\n",
    "    if ran1 == 0:\n",
    "        question = \"What is yield strength of composition? ->\"\n",
    "    elif ran1 == 1:\n",
    "        question = \"Write a possible yield strength of given composition. ->\"\n",
    "    elif ran1 == 2:\n",
    "        question = \"Given composition, write its potential yield strength. ->\"\n",
    "    tmp_dict[\"instruction\"] = question\n",
    "    tmp_dict[\"input\"] = \" \"+ an + \".\\n\"\n",
    "    tmp_dict[\"output\"] = \" Unable to answer due to lack of conditions.\\n\"\n",
    "    data_list.append(tmp_dict)"
   ]
  },
  {
   "cell_type": "code",
   "execution_count": 33,
   "id": "2b90dc97",
   "metadata": {},
   "outputs": [
    {
     "name": "stdout",
     "output_type": "stream",
     "text": [
      "318\n",
      "['beginner', 'downtown', 'pair', 'deodorant', 'hardhat', 'shell', 'wallet', 'david', 'samurai', 'black']\n"
     ]
    }
   ],
   "source": [
    "print(len(data_list))\n",
    "# add no-answer question according to length of data_list\n",
    "add_nouns = random.sample(nouns, add_n)\n",
    "print(add_nouns[:10])\n",
    "for an in add_nouns:\n",
    "    tmp_dict = {}\n",
    "    ran1 = random.randint(0,2)\n",
    "    ran2 = random.sample(list(slot.values()), 1)[0]\n",
    "    if ran1 == 0:\n",
    "        question = \"What will be the yield strength of given composition at 800-1200 °C? ->\"\n",
    "    elif ran1 == 1:\n",
    "        question = \"Write a possible yield strength of given composition at 800-1200 °C. ->\"\n",
    "    elif ran1 == 2:\n",
    "        question = \"Given composition, write its potential yield strength at 800-1200 °C. ->\"\n",
    "    tmp_dict[\"instruction\"] = question\n",
    "    tmp_dict[\"input\"] = an\n",
    "    tmp_dict[\"output\"] = \" \"+an+\" is not a \"+ran2+\" and it does not have yield strength.\\n\"\n",
    "    data_list.append(tmp_dict)\n",
    "random.shuffle(data_list)"
   ]
  },
  {
   "cell_type": "code",
   "execution_count": 34,
   "id": "101bf6e1",
   "metadata": {},
   "outputs": [],
   "source": [
    "import json\n",
    "\n",
    "json_str = json.dumps(data_list, indent=4)\n",
    "with open('matbench_steels.json', 'w', encoding='utf-8') as json_file:\n",
    "    json_file.write(json_str)"
   ]
  }
 ],
 "metadata": {
  "kernelspec": {
   "display_name": "Python 3",
   "language": "python",
   "name": "python3"
  },
  "language_info": {
   "codemirror_mode": {
    "name": "ipython",
    "version": 3
   },
   "file_extension": ".py",
   "mimetype": "text/x-python",
   "name": "python",
   "nbconvert_exporter": "python",
   "pygments_lexer": "ipython3",
   "version": "3.8.0"
  }
 },
 "nbformat": 4,
 "nbformat_minor": 5
}
