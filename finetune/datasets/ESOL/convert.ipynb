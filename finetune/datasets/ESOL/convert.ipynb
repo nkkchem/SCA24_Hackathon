{
 "cells": [
  {
   "cell_type": "code",
   "execution_count": 7,
   "id": "4d8c331b",
   "metadata": {},
   "outputs": [],
   "source": [
    "import random\n",
    "\n",
    "def random_generate_1(p, solu_num):\n",
    "    ran1 = random.randint(0,2)\n",
    "    ran2 = random.randint(0,1)\n",
    "    ran3 = random.randint(0,1)\n",
    "    ran4 = random.randint(0,1)\n",
    "    if ran2 == 0:\n",
    "        liq = \"aqueous \"\n",
    "    else:\n",
    "        liq = \"water \"\n",
    "    ran3 = random.randint(0,1)\n",
    "    if ran3 == 0:\n",
    "        tem = \" in room temperature\"\n",
    "    else:\n",
    "        tem = \" in 25 °C\"\n",
    "    if ran4 == 0:\n",
    "        solubility = \"solubility\"\n",
    "        output = \" \"+str(pow(10, float(solu_num)))+\" mol/L\\n\"\n",
    "    else:\n",
    "        solubility = p[0]\n",
    "        output = \" \"+solu_num+\"\\n\"\n",
    "    if ran1 == 0:\n",
    "        question = \"What is \"+ liq + solubility + \" of given \" + p[1] + tem + \"? ->\"\n",
    "    elif ran1 == 1:\n",
    "        question = \"Write \" + liq + solubility + \" of given \" + p[1] + tem + \". ->\"\n",
    "    elif ran1 == 2:\n",
    "        question = \"Given \" + p[1] + \", write its \"+ liq + solubility + tem + \". ->\"\n",
    "    return question, output\n",
    "\n",
    "def random_generate_2(p):\n",
    "    ran1 = random.randint(0,2)\n",
    "    if ran1 == 0:\n",
    "        question = \"What is \"+ p[0]+\" of given \"+ p[1] + \"? ->\"\n",
    "    elif ran1 == 1:\n",
    "        question = \"Write \"+ p[0]+ \" of given \"+ p[1] + \". ->\"\n",
    "    elif ran1 == 2:\n",
    "        question = \"Given \" + p[1] + \", write its \"+ p[0] + \". ->\"\n",
    "    return question\n",
    "\n",
    "def random_generate_3(p):\n",
    "    ran1 = random.randint(0,2)\n",
    "    if ran1 == 0:\n",
    "        question = \"What will be \"+ p[0]+\" of given \"+ p[1] + \"? ->\"\n",
    "    elif ran1 == 1:\n",
    "        question = \"Write a possible \"+ p[0]+ \" of given \"+ p[1] + \". ->\"\n",
    "    elif ran1 == 2:\n",
    "        question = \"Given \" + p[1] + \", write its potential \"+ p[0] + \". ->\"\n",
    "    return question\n",
    "\n",
    "def random_generate_4(p):\n",
    "    ran1 = random.randint(0,2)\n",
    "    ran2 = random.randint(0,1)\n",
    "    ran3 = random.randint(0,2)\n",
    "    ran4 = random.randint(0,1)\n",
    "    if ran2 == 0:\n",
    "        liq = \"\"\n",
    "    else:\n",
    "        liq = \"oil \"\n",
    "    if ran3 == 0:\n",
    "        tem = \" in room temperature\"\n",
    "    elif ran3 == 1:\n",
    "        tem = \" in 25 °C\"\n",
    "    elif ran3 == 2:\n",
    "        tem = \"\"\n",
    "    if ran4 == 0:\n",
    "        solubility = \"solubility\"\n",
    "    else:\n",
    "        solubility = p[0]\n",
    "    if ran1 == 0:\n",
    "        question = \"What is \"+ liq + solubility + \" of given \" + p[1] + tem + \"? ->\"\n",
    "    elif ran1 == 1:\n",
    "        question = \"Write \" + liq + solubility + \" of given \" + p[1] + tem + \". ->\"\n",
    "    elif ran1 == 2:\n",
    "        question = \"Given \" + p[1] + \", write its \"+ liq + solubility + tem + \". ->\"\n",
    "    return question"
   ]
  },
  {
   "cell_type": "code",
   "execution_count": 8,
   "id": "0498b113",
   "metadata": {},
   "outputs": [
    {
     "name": "stdout",
     "output_type": "stream",
     "text": [
      "9270\n"
     ]
    }
   ],
   "source": [
    "import pandas as pd\n",
    "\n",
    "df = pd.read_csv('ESOL.csv')\n",
    "slot = {\"compound\":\"Compound\", \n",
    "        \"solubility expressed as a logarithm in mol/L\":\"solubility_log in mol/L (solubility expressed as a logarithm in mol/L)\", \n",
    "        \"SMILES\":\"SMILES\", \n",
    "        \"SELFIES\":\"SELFIES\",\n",
    "        \"InChI\":\"InChI\"}\n",
    "pair1 = [(\"solubility expressed as a logarithm in mol/L\", \"compound\"),\n",
    "        (\"compound\", \"SMILES\"),\n",
    "        (\"compound\", \"SELFIES\"), \n",
    "        (\"compound\", \"InChI\"), \n",
    "        (\"InChI\", \"compound\"),\n",
    "        (\"solubility expressed as a logarithm in mol/L\", \"SMILES\"), \n",
    "        (\"solubility expressed as a logarithm in mol/L\", \"SELFIES\"),\n",
    "        (\"solubility expressed as a logarithm in mol/L\", \"InChI\")]\n",
    "pair2 = [(\"SMILES\", \"compound\"),\n",
    "         (\"SELFIES\", \"compound\")]\n",
    "data_list = []\n",
    "for df_slice in df.iterrows():\n",
    "    for p in pair1:\n",
    "        tmp_dict = {}\n",
    "        ran1 = random.randint(0,2)\n",
    "        if p[0] == \"solubility expressed as a logarithm in mol/L\":\n",
    "            question, output = random_generate_1(p, str(df_slice[1][slot[p[0]]]))\n",
    "        else:\n",
    "            question = random_generate_2(p)\n",
    "            output = \" \"+str(df_slice[1][slot[p[0]]])+\"\\n\"\n",
    "        tmp_dict[\"instruction\"] = question\n",
    "        tmp_dict[\"input\"] = \" \"+str(df_slice[1][slot[p[1]]])+\"\\n\"\n",
    "        tmp_dict[\"output\"] = output\n",
    "        data_list.append(tmp_dict)\n",
    "    for p in pair2:\n",
    "        tmp_dict = {}\n",
    "        question = random_generate_3(p)\n",
    "        tmp_dict[\"instruction\"] = question\n",
    "        tmp_dict[\"input\"] =  \" \"+str(df_slice[1][slot[p[1]]])+\"\\n\"\n",
    "        tmp_dict[\"output\"] = \" \"+str(df_slice[1][slot[p[0]]])+\"\\n\"\n",
    "        data_list.append(tmp_dict)\n",
    "print(len(data_list))"
   ]
  },
  {
   "cell_type": "code",
   "execution_count": 9,
   "id": "6fd0e584",
   "metadata": {},
   "outputs": [
    {
     "name": "stdout",
     "output_type": "stream",
     "text": [
      "927\n",
      "18\n",
      "9342\n"
     ]
    }
   ],
   "source": [
    "# add unable to answer question\n",
    "print(len(df))\n",
    "add = int(len(df)/50)\n",
    "print(add)\n",
    "for p in pair1:\n",
    "    if p[0] == \"solubility expressed as a logarithm in mol/L\":\n",
    "        ran = random.sample(range(0,927), 18)\n",
    "        for i, df_slice in enumerate(df.iterrows()):\n",
    "            if i in ran:\n",
    "                tmp_dict = {}\n",
    "                question = random_generate_4(p)\n",
    "                output = \" Unable to answer the question due to lack of conditions\\n\"\n",
    "                tmp_dict[\"instruction\"] = question\n",
    "                tmp_dict[\"input\"] = \" \"+str(df_slice[1][slot[p[1]]])+\"\\n\"\n",
    "                tmp_dict[\"output\"] = output\n",
    "                data_list.append(tmp_dict)\n",
    "print(len(data_list))"
   ]
  },
  {
   "cell_type": "code",
   "execution_count": 10,
   "id": "7563850d",
   "metadata": {},
   "outputs": [
    {
     "name": "stdout",
     "output_type": "stream",
     "text": [
      "30\n",
      "['typhoon', 'iran', 'freckle', 'rhythm', 'slip', 'love', 'draw', 'pediatrician', 'temple', 'description']\n"
     ]
    }
   ],
   "source": [
    "import json\n",
    "\n",
    "# https://github.com/psobko/Common-English-Nouns\n",
    "with open('../2325_nouns.json', 'r', encoding='utf-8') as f:\n",
    "    nouns = json.load(f)\n",
    "# add no-answer question according to original length of data_frame\n",
    "add = int(len(df)/30)\n",
    "print(add)\n",
    "add_nouns = random.sample(nouns, add)\n",
    "print(add_nouns[:10])\n",
    "# input is an \n",
    "# output: an does not have p[0]\n",
    "for an in add_nouns:\n",
    "    tmp_dict = {}\n",
    "    ran1 = random.randint(0,1)\n",
    "    if ran1 == 0:\n",
    "        ran2 = random.randint(0,6)\n",
    "        p = pair1[ran2]\n",
    "        if p[0] == \"solubility expressed as a logarithm in mol/L\":\n",
    "            question, output = random_generate_1(p, str(df_slice[1][slot[p[0]]]))\n",
    "            output = \" \"+an+\" does not have solubility.\\n\"\n",
    "        else:\n",
    "            question = random_generate_2(p)\n",
    "            output = \" \"+an+\" does not have \"+p[0]+\"\\n\"\n",
    "    elif ran1 == 1:\n",
    "        ran2 = random.randint(0,1)\n",
    "        p = pair2[ran2]\n",
    "        question = random_generate_3(p)\n",
    "        output = \" \"+an+\" does not have \"+p[0]+\"\\n\"\n",
    "    tmp_dict[\"instruction\"] = question\n",
    "    tmp_dict[\"input\"] =  \" \"+an+\"\\n\"\n",
    "    tmp_dict[\"output\"] = output\n",
    "    data_list.append(tmp_dict)\n",
    "\n",
    "random.shuffle(data_list)"
   ]
  },
  {
   "cell_type": "code",
   "execution_count": 11,
   "id": "101bf6e1",
   "metadata": {},
   "outputs": [
    {
     "name": "stdout",
     "output_type": "stream",
     "text": [
      "9372\n"
     ]
    }
   ],
   "source": [
    "import json\n",
    "\n",
    "print(len(data_list))\n",
    "json_str = json.dumps(data_list, indent=4)\n",
    "with open('ESOL.json', 'w', encoding='utf-8') as json_file:\n",
    "    json_file.write(json_str)"
   ]
  },
  {
   "cell_type": "code",
   "execution_count": null,
   "id": "ce1a9f8a",
   "metadata": {},
   "outputs": [],
   "source": []
  }
 ],
 "metadata": {
  "kernelspec": {
   "display_name": "Python 3",
   "language": "python",
   "name": "python3"
  },
  "language_info": {
   "codemirror_mode": {
    "name": "ipython",
    "version": 3
   },
   "file_extension": ".py",
   "mimetype": "text/x-python",
   "name": "python",
   "nbconvert_exporter": "python",
   "pygments_lexer": "ipython3",
   "version": "3.6.13"
  }
 },
 "nbformat": 4,
 "nbformat_minor": 5
}
