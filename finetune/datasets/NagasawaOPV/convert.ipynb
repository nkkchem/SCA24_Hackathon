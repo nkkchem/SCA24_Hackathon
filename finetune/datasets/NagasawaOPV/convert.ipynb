{
 "cells": [
  {
   "cell_type": "code",
   "execution_count": 6,
   "id": "0498b113",
   "metadata": {},
   "outputs": [
    {
     "name": "stdout",
     "output_type": "stream",
     "text": [
      "15639\n"
     ]
    }
   ],
   "source": [
    "import pandas as pd\n",
    "import random\n",
    "\n",
    "df = pd.read_csv('NagasawaOPV.csv')\n",
    "slot = {\"Nickname\":[\"nickname\"], \n",
    "        \"SMILES\":[\"SMILES\"], \n",
    "        \"PCE_max(%)\":[\"maximum value of PCE\", \"maximum value of power conversion efficiency\"], \n",
    "        \"PCE_ave(%)\":[\"average value of PCE\", \"average value of power conversion efficiency\", \"PCE\", \"power conversion efficiency\"],\n",
    "        \"Voc (V)\":[\"VOC\", \"open-circuit voltage\"], \n",
    "        \"Jsc (mA cm^2)\":[\"Jsc\", \"short-circuit current density\"], \n",
    "        \"FF\":[\"FF\", \"fill factor\"], \n",
    "        \"Mw (kg mol^-1)\":[\"Mw\", \"weight-averaged molecular weight\"], \n",
    "        \"Mn (kg mol^-1)\":[\"Mn\", \"number-averaged molecular weight\"],\n",
    "        \"PDI (=Mw/Mn)\":[\"PDI\", \"poly dispersity index\"], \n",
    "        \"Monomer (g mol^-1)\":[\"Monomer\"], \n",
    "        \"HOMO (eV)\":[\"HOMO\"], \n",
    "        \"LUMO (eV)\":[\"LUMO\"], \n",
    "        \"bandgap(eV)\":[\"band gap\"]}\n",
    "pair1 = [(\"Nickname\", \"SMILES\"),\n",
    "        (\"Mw (kg mol^-1)\", \"SMILES\"),\n",
    "        (\"Mn (kg mol^-1)\", \"SMILES\"), \n",
    "        (\"Monomer (g mol^-1)\", \"SMILES\"), \n",
    "        (\"HOMO (eV)\", \"SMILES\"), \n",
    "        (\"LUMO (eV)\", \"SMILES\"),\n",
    "        (\"bandgap(eV)\", \"SMILES\"), \n",
    "        (\"PDI (=Mw/Mn)\", \"SMILES\"), \n",
    "        (\"PCE_max(%)\", \"SMILES\"), \n",
    "        (\"PCE_ave(%)\", \"SMILES\"), \n",
    "        (\"Voc (V)\", \"SMILES\"), \n",
    "        (\"Jsc (mA cm^2)\", \"SMILES\"), \n",
    "        (\"FF\", \"SMILES\")]\n",
    "pc_tem = [\"PCE_max(%)\", \"PCE_ave(%)\", \"Voc (V)\", \"Jsc (mA cm^2)\", \"FF\"]\n",
    "'''\n",
    "pair2 = [(\"SMILES\", \"Nickname\"),\n",
    "         (\"SELFIES\", \"compound\"),\n",
    "         (\"InChI\", \"compound\")]\n",
    "'''\n",
    "data_list = []\n",
    "for df_slice in df.iterrows():\n",
    "    for p in pair1:\n",
    "        tmp_dict = {}\n",
    "        ran1 = random.randint(0,2)\n",
    "        ran2 = random.randint(0, len(slot[p[0]]))\n",
    "        for i in range(0,len(slot[p[0]])):\n",
    "            if i == ran2:\n",
    "                pn = slot[p[0]][i]\n",
    "        if p[0] == \"Nickname\":\n",
    "            if ran1 == 0:\n",
    "                question = \"What is \"+ pn + \" of given \" + p[1] + \"? ->\"\n",
    "            elif ran1 == 1:\n",
    "                question = \"Write \" + pn + \" of given \" + p[1] + \". ->\"\n",
    "            elif ran1 == 2:\n",
    "                question = \"Given \" + p[1] + \", write its \"+ pn + \". ->\"\n",
    "        else:\n",
    "            if p[0] in pc_tem:\n",
    "                tem = \" as a p-type polymer and PC71BM or PCBM\"\n",
    "                pn = \"solar cell \"+pn\n",
    "            else:\n",
    "                ran3 = random.randint(0,1)\n",
    "                if ran3 == 0:\n",
    "                    tem = \" at room temperature and atmospheric pressure\"\n",
    "                else:\n",
    "                    tem = \" at normal measurement conditions.\"\n",
    "            if ran1 == 0:\n",
    "                question = \"What is \"+ pn + \" of given \" + p[1] + tem + \"? ->\"\n",
    "            elif ran1 == 1:\n",
    "                question = \"Write \" + pn + \" of given \" + p[1] + tem + \". ->\"\n",
    "            elif ran1 == 2:\n",
    "                question = \"Given \" + p[1] + \", write its \"+ pn + tem + \". ->\"\n",
    "        tmp_dict[\"instruction\"] = question\n",
    "        tmp_dict[\"input\"] = \" \"+str(df_slice[1][p[1]])+\"\\n\"\n",
    "        tmp_dict[\"output\"] = \" \"+str(df_slice[1][p[0]])+\"\\n\"\n",
    "        data_list.append(tmp_dict)\n",
    "print(len(data_list))"
   ]
  },
  {
   "cell_type": "code",
   "execution_count": 7,
   "id": "101bf6e1",
   "metadata": {},
   "outputs": [
    {
     "name": "stdout",
     "output_type": "stream",
     "text": [
      "15639\n"
     ]
    }
   ],
   "source": [
    "import json\n",
    "\n",
    "print(len(data_list))\n",
    "json_str = json.dumps(data_list, indent=4)\n",
    "with open('NagasawaOPV.json', 'w', encoding='utf-8') as json_file:\n",
    "    json_file.write(json_str)"
   ]
  },
  {
   "cell_type": "code",
   "execution_count": null,
   "id": "ce1a9f8a",
   "metadata": {},
   "outputs": [],
   "source": []
  }
 ],
 "metadata": {
  "kernelspec": {
   "display_name": "Python 3",
   "language": "python",
   "name": "python3"
  },
  "language_info": {
   "codemirror_mode": {
    "name": "ipython",
    "version": 3
   },
   "file_extension": ".py",
   "mimetype": "text/x-python",
   "name": "python",
   "nbconvert_exporter": "python",
   "pygments_lexer": "ipython3",
   "version": "3.6.13"
  }
 },
 "nbformat": 4,
 "nbformat_minor": 5
}
