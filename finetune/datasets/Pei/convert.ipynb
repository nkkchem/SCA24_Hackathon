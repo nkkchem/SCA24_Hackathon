{
 "cells": [
  {
   "cell_type": "code",
   "execution_count": 1,
   "id": "16620829",
   "metadata": {},
   "outputs": [],
   "source": [
    "import pandas as pd\n",
    "import random\n",
    "\n",
    "df = pd.read_csv('pei.csv')\n",
    "# key=csv column name, value=slot in Q\n",
    "slot = {\"Alloy\":\"alloy\"}\n",
    "data_list = []\n",
    "for s in slot.keys():\n",
    "    for i, element in enumerate(df[s]):\n",
    "        tmp_dict = {}\n",
    "        ran = random.randint(0,2)\n",
    "        if ran == 0:\n",
    "            question = \"What is phase of given \"+ slot[s] + \"? ->\"\n",
    "        elif ran == 1:\n",
    "            question = \"Write phase of given \"+ slot[s] + \". ->\"\n",
    "        elif ran == 2:\n",
    "            question = \"Given \" + slot[s] + \", write its phase. ->\"\n",
    "        answer = df['Phase'][i]\n",
    "        tmp_dict[\"instruction\"] = question\n",
    "        tmp_dict[\"input\"] =  \" \"+ element + \"\\n\"\n",
    "        tmp_dict[\"output\"] = \" \"+str(answer)+\"\\n\"\n",
    "        data_list.append(tmp_dict)"
   ]
  },
  {
   "cell_type": "code",
   "execution_count": 2,
   "id": "9a79df0f",
   "metadata": {},
   "outputs": [],
   "source": [
    "import json\n",
    "\n",
    "# https://github.com/psobko/Common-English-Nouns\n",
    "with open('2325_nouns.json', 'r', encoding='utf-8') as f:\n",
    "    nouns = json.load(f)"
   ]
  },
  {
   "cell_type": "code",
   "execution_count": 3,
   "id": "678932a4",
   "metadata": {},
   "outputs": [
    {
     "data": {
      "text/plain": [
       "2325"
      ]
     },
     "execution_count": 3,
     "metadata": {},
     "output_type": "execute_result"
    }
   ],
   "source": [
    "len(nouns)"
   ]
  },
  {
   "cell_type": "code",
   "execution_count": 4,
   "id": "d7ace739",
   "metadata": {},
   "outputs": [
    {
     "name": "stdout",
     "output_type": "stream",
     "text": [
      "1252\n",
      "41\n",
      "['ticket', 'astronomy', 'coke', 'brush', 'granddaughter', 'turkey', 'roadway', 'oval', 'gallon', 'secure']\n"
     ]
    }
   ],
   "source": [
    "print(len(data_list))\n",
    "# add no-answer question according to length of data_list\n",
    "add = int(len(data_list)/30)\n",
    "print(add)\n",
    "add_nouns = random.sample(nouns, add)\n",
    "print(add_nouns[:10])\n",
    "for an in add_nouns:\n",
    "    tmp_dict = {}\n",
    "    ran1 = random.randint(0,2)\n",
    "    ran2 = random.sample(list(slot.values()), 1)[0]\n",
    "    if ran1 == 0:\n",
    "        question = \"What is phase of given \"+ ran2 + \"? ->\"\n",
    "    elif ran1 == 1:\n",
    "        question = \"Write phase of given \"+ ran2 + \". ->\"\n",
    "    elif ran1 == 2:\n",
    "        question = \"Given \" + ran2 + \", write its phase. ->\"\n",
    "    tmp_dict[\"instruction\"] = question\n",
    "    tmp_dict[\"input\"] = \" \"+ an + \"\\n\"\n",
    "    tmp_dict[\"output\"] = \" \"+an+\" does not have phase.\\n\"\n",
    "    data_list.append(tmp_dict)\n",
    "random.shuffle(data_list)"
   ]
  },
  {
   "cell_type": "code",
   "execution_count": 5,
   "id": "101bf6e1",
   "metadata": {},
   "outputs": [],
   "source": [
    "import json\n",
    "\n",
    "json_str = json.dumps(data_list, indent=4)\n",
    "with open('pei.json', 'w', encoding='utf-8') as json_file:\n",
    "    json_file.write(json_str)"
   ]
  }
 ],
 "metadata": {
  "kernelspec": {
   "display_name": "Python 3",
   "language": "python",
   "name": "python3"
  },
  "language_info": {
   "codemirror_mode": {
    "name": "ipython",
    "version": 3
   },
   "file_extension": ".py",
   "mimetype": "text/x-python",
   "name": "python",
   "nbconvert_exporter": "python",
   "pygments_lexer": "ipython3",
   "version": "3.8.0"
  }
 },
 "nbformat": 4,
 "nbformat_minor": 5
}
