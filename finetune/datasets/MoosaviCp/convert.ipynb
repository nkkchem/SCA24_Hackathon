{
 "cells": [
  {
   "cell_type": "code",
   "execution_count": 98,
   "id": "bd1fca3b",
   "metadata": {},
   "outputs": [
    {
     "data": {
      "text/plain": [
       "[('pCv_250.00 (predicted gravimetric heat capacity at 250 K)',\n",
       "  'MOF structural features and topology'),\n",
       " ('pCv_275.00 (predicted gravimetric heat capacity at 275 K)',\n",
       "  'MOF structural features and topology'),\n",
       " ('pCv_300.00 (predicted gravimetric heat capacity at 300 K)',\n",
       "  'MOF structural features and topology'),\n",
       " ('pCv_325.00 (predicted gravimetric heat capacity at 325 K)',\n",
       "  'MOF structural features and topology'),\n",
       " ('pCv_350.00 (predicted gravimetric heat capacity at 350 K)',\n",
       "  'MOF structural features and topology'),\n",
       " ('pCv_375.00 (predicted gravimetric heat capacity at 375 K)',\n",
       "  'MOF structural features and topology'),\n",
       " ('pCv_400.00 (predicted gravimetric heat capacity at 400 K)',\n",
       "  'MOF structural features and topology')]"
      ]
     },
     "execution_count": 98,
     "metadata": {},
     "output_type": "execute_result"
    }
   ],
   "source": [
    "pcv_elements = [\n",
    "    \"pCv_250.00 (predicted gravimetric heat capacity at 250 K)\",\n",
    "    \"pCv_275.00 (predicted gravimetric heat capacity at 275 K)\",\n",
    "    \"pCv_300.00 (predicted gravimetric heat capacity at 300 K)\",\n",
    "    \"pCv_325.00 (predicted gravimetric heat capacity at 325 K)\",\n",
    "    \"pCv_350.00 (predicted gravimetric heat capacity at 350 K)\",\n",
    "    \"pCv_375.00 (predicted gravimetric heat capacity at 375 K)\",\n",
    "    \"pCv_400.00 (predicted gravimetric heat capacity at 400 K)\"\n",
    "]\n",
    "\n",
    "feature = \"MOF structural features and topology\"\n",
    "\n",
    "MOF_pcv = []\n",
    "\n",
    "for element in pcv_elements:\n",
    "    \n",
    "    pair = (element,feature)\n",
    "    MOF_pcv.append(pair)\n",
    "\n",
    "MOF_pcv"
   ]
  },
  {
   "cell_type": "code",
   "execution_count": 99,
   "id": "caef090b",
   "metadata": {},
   "outputs": [],
   "source": [
    "import pandas as pd\n",
    "import random\n",
    "slot = {\n",
    "    \"MOF structural features and topology\":\"MOF structural features and topology\",\n",
    "    \"composition\": \"composition\", \n",
    "    \"Cv_gravimetric_300.00 (gravimetric heat capacity at 300 K)\": \"gravimetric heat capacity at 300 K\",\n",
    "    \"pCv_250.00 (predicted gravimetric heat capacity at 250 K)\":\"predicted gravimetric heat capacity at 250 K\",\n",
    "    \"pCv_275.00 (predicted gravimetric heat capacity at 275 K)\":\"predicted gravimetric heat capacity at 275 K\",\n",
    "    \"pCv_300.00 (predicted gravimetric heat capacity at 300 K)\":\"predicted gravimetric heat capacity at 300 K\",\n",
    "    \"pCv_325.00 (predicted gravimetric heat capacity at 325 K)\":\"predicted gravimetric heat capacity at 325 K\",\n",
    "    \"pCv_350.00 (predicted gravimetric heat capacity at 350 K)\":\"predicted gravimetric heat capacity at 350 K\",\n",
    "    \"pCv_375.00 (predicted gravimetric heat capacity at 375 K)\":\"predicted gravimetric heat capacity at 375 K\",\n",
    "    \"pCv_400.00 (predicted gravimetric heat capacity at 400 K)\":\"predicted gravimetric heat capacity at 400 K\"\n",
    "}\n",
    "\n",
    "pair = MOF_pcv + [(\"Cv_gravimetric_300.00 (gravimetric heat capacity at 300 K)\", \"MOF structural features and topology\", \"composition\")]\n",
    "\n",
    "df = pd.read_csv('MoosaviCp.csv')\n",
    "\n",
    "data_list = []\n",
    "for df_slice in df.iterrows():\n",
    "    for p in pair:\n",
    "        tmp_dict = {}\n",
    "        if pd.isnull(df_slice[1][p[0]]):\n",
    "            continue\n",
    "        if len(p) != 3:\n",
    "            ran = random.randint(0,3)\n",
    "            if ran == 0:\n",
    "                question = \"What is the \"+ slot[p[0]] + \" of given MOF with \"+ p[1] + \"? ->\"\n",
    "            elif ran == 1:\n",
    "                question = \"Write the \"+ slot[p[0]] + \" of given MOF with \"+ p[1] + \". ->\"\n",
    "            elif ran == 2:\n",
    "                question = \"Given MOF with \" + p[1] + \", write its \"+ slot[p[0]] + \". ->\"\n",
    "            elif ran == 3:\n",
    "                question = \"Tell me the \"+ slot[p[0]] + \" of given MOF with \"+ p[1] + \". ->\"\n",
    "            \n",
    "            tmp_dict[\"instruction\"] = question\n",
    "            tmp_dict[\"input\"] =  \" \"+str(df_slice[1][p[1]])+\"\\n\"\n",
    "            tmp_dict[\"output\"] = \" \"+str(df_slice[1][p[0]])+\"\\n\"\n",
    "            data_list.append(tmp_dict)\n",
    "            \n",
    "        elif len(p) == 3:# and not (pd.isnull(df_slice[1][p[0]])):\n",
    "            ran = random.randint(0,3)\n",
    "            if ran == 0:\n",
    "                question = \"What is the \" + slot[p[0]] + \" for MOF with \"+ p[1] + \" and \" + p[2] + \"? ->\"\n",
    "            elif ran == 1:\n",
    "                question = \"Write the \" + slot[p[0]] + \" of given MOF with \" + p[1] + \" and \" + p[2] + \". ->\"\n",
    "            elif ran == 2:\n",
    "                question = \"Given MOF with \" + p[1] + \" and \" + p[2] + \", write its \"+ slot[p[0]] + \". ->\"\n",
    "            elif ran == 3:\n",
    "                question = \"Tell me the \"+ slot[p[0]] + \" of given MOF with \" + p[1] + \" and \" + p[2] +  \". ->\"   \n",
    "            tmp_dict[\"instruction\"] = question\n",
    "            tmp_dict[\"input\"] =  \" \"+ str(p[1]) + \": \"+ str(df_slice[1][p[1]]) + \"\\n\" + \" \" + str(p[2]) + \": \" + str(df_slice[1][p[2]]) +\"\\n\"\n",
    "            tmp_dict[\"output\"] = \" \"+str(df_slice[1][p[0]]) +\"\\n\"\n",
    "            \n",
    "        data_list.append(tmp_dict)"
   ]
  },
  {
   "cell_type": "code",
   "execution_count": 101,
   "id": "9c10f984",
   "metadata": {},
   "outputs": [
    {
     "name": "stdout",
     "output_type": "stream",
     "text": [
      "146359\n",
      "2927\n"
     ]
    }
   ],
   "source": [
    "print(len(data_list))\n",
    "add = int(len(data_list)/50)\n",
    "print(add)\n",
    "ran_list = random.sample(range(0,len(data_list)), add)\n",
    "for i, df_slice in enumerate(df.iterrows()):\n",
    "    if i in ran_list:\n",
    "        tmp_dict = {}\n",
    "        ran1 = random.randint(0,1)\n",
    "        ran2 = random.randint(0,3)\n",
    "        if ran1 == 0:\n",
    "            if ran2 == 0:\n",
    "                question = \"What is the \" + slot[p[0]] + \" for MOF with \"+ p[1] + \"? ->\"\n",
    "            elif ran2 == 1:\n",
    "                question = \"Write the \" + slot[p[0]] + \" of given MOF with \" + p[1] + \". ->\"\n",
    "            elif ran2 == 2:\n",
    "                question = \"Given MOF with \" + p[1] + \", write its \"+ slot[p[0]] + \". ->\"\n",
    "            elif ran2 == 3:\n",
    "                question = \"Tell me the \"+ slot[p[0]] + \" of given MOF with \" + p[1] +  \". ->\" \n",
    "            tmp_dict[\"input\"] = \" \"+str(df_slice[1][p[1]])+\"\\n\"\n",
    "        elif ran1 == 1:\n",
    "            if ran2 == 0:\n",
    "                question = \"What is the \" + slot[p[0]] + \" for MOF with \" + p[2] + \"? ->\"\n",
    "            elif ran2 == 1:\n",
    "                question = \"Write the \" + slot[p[0]] + \" of given MOF with \" + p[2] + \". ->\"\n",
    "            elif ran2 == 2:\n",
    "                question = \"Given MOF with \" + p[2] + \", write its \"+ slot[p[0]] + \". ->\"\n",
    "            elif ran2 == 3:\n",
    "                question = \"Tell me the \"+ slot[p[0]] + \" of given MOF with \" + p[2] +  \". ->\" \n",
    "            tmp_dict[\"input\"] = \" \"+str(df_slice[1][p[2]])+\"\\n\"\n",
    "        tmp_dict[\"instruction\"] = question\n",
    "        tmp_dict[\"output\"] = \" Unable to answer the question due to lack of conditions\\n\"\n",
    "        data_list.append(tmp_dict)\n"
   ]
  },
  {
   "cell_type": "code",
   "execution_count": 104,
   "id": "7563850d",
   "metadata": {},
   "outputs": [
    {
     "name": "stdout",
     "output_type": "stream",
     "text": [
      "['aardvark', 'abyssinian', 'accelerator', 'accordion', 'account', 'accountant', 'acknowledgment', 'acoustic', 'acrylic', 'act']\n"
     ]
    }
   ],
   "source": [
    "import json\n",
    "\n",
    "# https://github.com/psobko/Common-English-Nouns\n",
    "with open('../2325_nouns.json', 'r', encoding='utf-8') as f:\n",
    "    nouns = json.load(f)\n",
    "\n",
    "print(nouns[:10])\n",
    "for an in nouns:\n",
    "    ran_ = random.randint(0,1)\n",
    "    if ran_ == 0:\n",
    "        p = pair[0]\n",
    "    else:\n",
    "        p = pair[1]\n",
    "    tmp_dict = {}\n",
    "    if len(p) != 3:\n",
    "        ran = random.randint(0,3)\n",
    "        if ran == 0:\n",
    "            question = \"What is the \"+ slot[p[0]] + \" of given MOF with \"+ p[1] + \"? ->\"\n",
    "        elif ran == 1:\n",
    "            question = \"Write the \"+ slot[p[0]] + \" of given MOF with \"+ p[1] + \". ->\"\n",
    "        elif ran == 2:\n",
    "            question = \"Given MOF with \" + p[1] + \", write its \"+ slot[p[0]] + \". ->\"\n",
    "        elif ran == 3:\n",
    "            question = \"Tell me the \"+ slot[p[0]] + \" of given MOF with \"+ p[1] + \". ->\"\n",
    "        answer = an + \" has no \" + slot[p[0]] +\".\"\n",
    "    elif len(p) == 3:# and not (pd.isnull(df_slice[1][p[0]])):\n",
    "        ran = random.randint(0,3)\n",
    "        if ran == 0:\n",
    "            question = \"What is the \" + slot[p[0]] + \" for MOF with \"+ p[1] + \" and \" + p[2] + \"? ->\"\n",
    "        elif ran == 1:\n",
    "            question = \"Write the \" + slot[p[0]] + \" of given MOF with \" + p[1] + \" and \" + p[2] + \". ->\"\n",
    "        elif ran == 2:\n",
    "            question = \"Given MOF with \" + p[1] + \" and \" + p[2] + \", write its \"+ slot[p[0]] + \". ->\"\n",
    "        elif ran == 3:\n",
    "            question = \"Tell me the \"+ slot[p[0]] + \" of given MOF with \" + p[1] + \" and \" + p[2] +  \". ->\"                                                \n",
    "        answer = an + \" has no \"+slot[p[1]]+ \"and\" + slot[p[2]] + \".\" \n",
    "    tmp_dict[\"instruction\"] = question\n",
    "    tmp_dict[\"input\"] =  \" \"+an+\"\\n\"\n",
    "    tmp_dict[\"output\"] = \" \"+str(answer)+\"\\n\"\n",
    "    data_list.append(tmp_dict)"
   ]
  },
  {
   "cell_type": "code",
   "execution_count": 105,
   "id": "101bf6e1",
   "metadata": {},
   "outputs": [
    {
     "name": "stdout",
     "output_type": "stream",
     "text": [
      "148897\n"
     ]
    }
   ],
   "source": [
    "import json\n",
    "\n",
    "print(len(data_list))\n",
    "json_str = json.dumps(data_list, indent=4)\n",
    "with open('MoosaviCp.json', 'w', encoding='utf-8') as json_file:\n",
    "    json_file.write(json_str)"
   ]
  },
  {
   "cell_type": "code",
   "execution_count": null,
   "id": "ce1a9f8a",
   "metadata": {},
   "outputs": [],
   "source": []
  }
 ],
 "metadata": {
  "kernelspec": {
   "display_name": "Python 3",
   "language": "python",
   "name": "python3"
  },
  "language_info": {
   "codemirror_mode": {
    "name": "ipython",
    "version": 3
   },
   "file_extension": ".py",
   "mimetype": "text/x-python",
   "name": "python",
   "nbconvert_exporter": "python",
   "pygments_lexer": "ipython3",
   "version": "3.8.0"
  }
 },
 "nbformat": 4,
 "nbformat_minor": 5
}
