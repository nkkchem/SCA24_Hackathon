{
 "cells": [
  {
   "cell_type": "code",
   "execution_count": 40,
   "id": "0498b113",
   "metadata": {},
   "outputs": [],
   "source": [
    "import pandas as pd\n",
    "import random\n",
    "\n",
    "df = pd.read_csv('MoosaviDiversity.csv')"
   ]
  },
  {
   "cell_type": "code",
   "execution_count": 41,
   "id": "bfb47eec",
   "metadata": {},
   "outputs": [
    {
     "data": {
      "text/plain": [
       "29"
      ]
     },
     "execution_count": 41,
     "metadata": {},
     "output_type": "execute_result"
    }
   ],
   "source": [
    "propertys  = {\n",
    "    'ASA': 'Accessible Surface Area',\n",
    "    'CellV': 'Unit cell volume',\n",
    "    'Df': 'Fractal dimension',\n",
    "    'Di': 'Isotherm dimensionality',\n",
    "    'Dif': 'Diffusivity',\n",
    "    'NASA': 'Non-Accessible Surface Area',\n",
    "    'POAV': 'Pore Volume',\n",
    "    'POAVF': 'Pore Volume Fraction',\n",
    "    'PONAV': 'Pore Non-Accessible Volume',\n",
    "    'PONAVF': 'Pore Non-Accessible Volume Fraction',\n",
    "    'total_SA_volumetric': 'Total surface area per unit volume',\n",
    "    'total_SA_gravimetric': 'Total surface area per unit mass',\n",
    "    'total_POV_volumetric': 'Total pore volume per unit volume',\n",
    "    'total_POV_gravimetric': 'Total pore volume per unit mass',\n",
    "    'MNC': 'Metal Node Connectivity',\n",
    "    'MPC': 'Metal-Paddlewheel Connectivity',\n",
    "    'pure_CO2_kH': \"The Henry's Law constant for pure CO2 adsorption\",\n",
    "    'pure_CO2_widomHOA': \"Widom particle insertion method-based Henry's Law constant for pure CO2 adsorption\",\n",
    "    'pure_methane_kH': \"The Henry's Law constant for pure CH4 adsorption\",\n",
    "    'pure_methane_widomHOA': \"Widom particle insertion method-based Henry's Law constant for pure CH4 adsorption\",\n",
    "    'pure_uptake_CO2_298.00_15000': \"Pure CO2 adsorption at 298 K and 15,000 Pa pressure\",\n",
    "    'pure_uptake_CO2_298.00_1600000': \"Pure CO2 adsorption at 298 K and 1,600,000 Pa pressure\",\n",
    "    'pure_uptake_methane_298.00_580000': \"Pure CH4 adsorption at 298 K and 580,000 Pa pressure\",\n",
    "    'pure_uptake_methane_298.00_6500000': \"Pure CH4 adsorption at 298 K and 6,500,000 Pa pressure\",\n",
    "    'logKH_CO2': 'Logarithm of the Henrys Law constant for pure CO2 adsorption',\n",
    "    'logKH_CH4': 'Logarithm of the Henrys Law constant for pure CH4 adsorption',\n",
    "    'CH4DC': 'CH4 Deliverable Capacity',\n",
    "    'CH4HPSTP': 'CH4 storage capacity at high pressure and standard temperature',\n",
    "    'CH4LPSTP': 'CH4 storage capacity at low pressure and standard temperature'\n",
    "}\n",
    "\n",
    "len(propertys)"
   ]
  },
  {
   "cell_type": "code",
   "execution_count": 42,
   "id": "0a5fb478",
   "metadata": {},
   "outputs": [
    {
     "data": {
      "text/plain": [
       "29"
      ]
     },
     "execution_count": 42,
     "metadata": {},
     "output_type": "execute_result"
    }
   ],
   "source": [
    "df_key = list(df.keys())[1:]\n",
    "slot = {}\n",
    "for key in df_key:\n",
    "    property = key.split(\" \")[0]\n",
    "    if property in list(propertys.keys()):\n",
    "        slot[key] = property   \n",
    "len(slot) "
   ]
  },
  {
   "cell_type": "code",
   "execution_count": 43,
   "id": "c53d7e05",
   "metadata": {},
   "outputs": [
    {
     "data": {
      "text/plain": [
       "29"
      ]
     },
     "execution_count": 43,
     "metadata": {},
     "output_type": "execute_result"
    }
   ],
   "source": [
    "property_abbr = {}\n",
    "for i in slot:\n",
    "    prop_ab = i.split(\" \")[0]\n",
    "    if prop_ab in list(propertys.keys()):\n",
    "        property_abbr[i] = propertys[prop_ab]\n",
    "    else:\n",
    "        property_abbr[i] = prop_ab\n",
    "len(property_abbr)"
   ]
  },
  {
   "cell_type": "code",
   "execution_count": 44,
   "id": "f85d8a5f",
   "metadata": {},
   "outputs": [],
   "source": [
    "data_list = []\n",
    "for s in slot.keys():\n",
    "    for i, element in enumerate(df[s]):\n",
    "        tmp_dict = {}\n",
    "        ran = random.randint(0,5)\n",
    "        if ran == 0:\n",
    "            question = \"What is \" + slot[s] + \" of given MOF? ->\"\n",
    "        elif ran == 1:\n",
    "            question = \"What is \" + slot[s] + \" for given MOF? ->\"\n",
    "        elif ran == 2:\n",
    "            question = \"What is \" + slot[s] + \" in given MOF? ->\"\n",
    "        elif ran == 3:\n",
    "            question = \"What is \" + property_abbr[s] + \" of given MOF? ->\"\n",
    "        elif ran == 4:\n",
    "            question = \"What is \" + property_abbr[s] + \" for given MOF? ->\"\n",
    "        elif ran == 5:\n",
    "            question = \"What is \" + property_abbr[s] + \" in given MOF? ->\"\n",
    "        answer = element\n",
    "        tmp_dict[\"instruction\"] = question \n",
    "        tmp_dict[\"input\"] =  \" \"+ str(df[\"MOF\"][i]) +\"\\n\"\n",
    "        tmp_dict[\"output\"] = \" \"+str(answer)+\"\\n\"\n",
    "        data_list.append(tmp_dict)"
   ]
  },
  {
   "cell_type": "code",
   "execution_count": 45,
   "id": "85984b0a",
   "metadata": {},
   "outputs": [
    {
     "data": {
      "text/plain": [
       "179510"
      ]
     },
     "execution_count": 45,
     "metadata": {},
     "output_type": "execute_result"
    }
   ],
   "source": [
    "len(data_list)"
   ]
  },
  {
   "cell_type": "code",
   "execution_count": 46,
   "id": "166b1e11",
   "metadata": {},
   "outputs": [],
   "source": [
    "import json\n",
    "\n",
    "# https://github.com/psobko/Common-English-Nouns\n",
    "with open('2325_nouns.json', 'r', encoding='utf-8') as f:\n",
    "    nouns = json.load(f)"
   ]
  },
  {
   "cell_type": "code",
   "execution_count": 47,
   "id": "2b90dc97",
   "metadata": {},
   "outputs": [],
   "source": [
    "\n",
    "# add no-answer question according to length of data_list\n",
    "add_n = int(len(data_list)/30)\n",
    "for an in nouns:\n",
    "    tmp_dict = {}\n",
    "    ran1 = random.randint(0,2)\n",
    "    property = random.sample(list(slot.values()), 1)[0]\n",
    "    if ran1 == 0:\n",
    "        question = f\"What is {property} of given MOF? ->\"\n",
    "    elif ran1 == 1:\n",
    "        question = f\"What is {property} for given MOF? ->\"\n",
    "    elif ran1 == 2:\n",
    "        question = f\"What is {property} in given MOF? ->\"\n",
    "    tmp_dict[\"instruction\"] = question\n",
    "\n",
    "    tmp_dict[\"input\"] = \" \" + an +\"\\n\"\n",
    "    tmp_dict[\"output\"] = f\" {an} is not MOF and does not have {property}.\\n\"\n",
    "    data_list.append(tmp_dict)\n",
    "random.shuffle(data_list)"
   ]
  },
  {
   "cell_type": "code",
   "execution_count": 48,
   "id": "101bf6e1",
   "metadata": {},
   "outputs": [],
   "source": [
    "import json\n",
    "\n",
    "json_str = json.dumps(data_list, indent=4)\n",
    "with open('MoosaviDiversity.json', 'w', encoding='utf-8') as json_file:\n",
    "    json_file.write(json_str)"
   ]
  }
 ],
 "metadata": {
  "kernelspec": {
   "display_name": "Python 3",
   "language": "python",
   "name": "python3"
  },
  "language_info": {
   "codemirror_mode": {
    "name": "ipython",
    "version": 3
   },
   "file_extension": ".py",
   "mimetype": "text/x-python",
   "name": "python",
   "nbconvert_exporter": "python",
   "pygments_lexer": "ipython3",
   "version": "3.8.0"
  }
 },
 "nbformat": 4,
 "nbformat_minor": 5
}
