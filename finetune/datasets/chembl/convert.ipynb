{
 "cells": [
  {
   "cell_type": "code",
   "execution_count": 24,
   "id": "0498b113",
   "metadata": {},
   "outputs": [],
   "source": [
    "import pandas as pd\n",
    "import random\n",
    "\n",
    "df = pd.read_csv('chembl.csv')\n",
    "# key=csv column name, value=slot in Q\n",
    "slot = {\"smiles\":\"SMILES\", \"inchi\":\"InChI\", \"selfies\":\"SELFIES\", \"iupac\":\"IUPAC\"}\n",
    "data_list = []\n",
    "for s in slot.keys():\n",
    "    for i, element in enumerate(df[s]):\n",
    "        tmp_dict = {}\n",
    "        ran = random.randint(0,2)\n",
    "        if ran == 0:\n",
    "            question = \"What is lipophilicity of given \"+ slot[s] + \"? ->\"\n",
    "        elif ran == 1:\n",
    "            question = \"Write lipophilicity of given \"+ slot[s] + \". ->\"\n",
    "        elif ran == 2:\n",
    "            question = \"Given \" + slot[s] + \", write its lipophilicity. ->\"\n",
    "        answer = df['lipophilicity'][i]\n",
    "        tmp_dict[\"instruction\"] = question\n",
    "        tmp_dict[\"input\"] =  element\n",
    "        tmp_dict[\"output\"] = \" \"+str(answer)+\"\\n\"\n",
    "        data_list.append(tmp_dict)"
   ]
  },
  {
   "cell_type": "code",
   "execution_count": 25,
   "id": "166b1e11",
   "metadata": {},
   "outputs": [],
   "source": [
    "import json\n",
    "\n",
    "# https://github.com/psobko/Common-English-Nouns\n",
    "with open('../2325_nouns.json', 'r', encoding='utf-8') as f:\n",
    "    nouns = json.load(f)"
   ]
  },
  {
   "cell_type": "code",
   "execution_count": 26,
   "id": "52c48afe",
   "metadata": {},
   "outputs": [
    {
     "name": "stdout",
     "output_type": "stream",
     "text": [
      "7596\n",
      "253\n",
      "['mice', 'kite', 'computer', 'visitor', 'pheasant', 'scissors', 'crayon', 'account', 'spring', 'digestion']\n"
     ]
    }
   ],
   "source": [
    "print(len(data_list))\n",
    "# add no-answer question according to length of data_list\n",
    "add = int(len(data_list)/30)\n",
    "print(add)\n",
    "add_nouns = random.sample(nouns, add)\n",
    "print(add_nouns[:10])\n",
    "for an in add_nouns:\n",
    "    tmp_dict = {}\n",
    "    ran1 = random.randint(0,2)\n",
    "    ran2 = random.sample(list(slot.values()), 1)[0]\n",
    "    if ran1 == 0:\n",
    "        question = \"What is lipophilicity of given \"+ ran2 + \"? ->\"\n",
    "    elif ran1 == 1:\n",
    "        question = \"Write lipophilicity of given \"+ ran2 + \". ->\"\n",
    "    elif ran1 == 2:\n",
    "        question = \"Given \" + ran2 + \", write its lipophilicity. ->\"\n",
    "    tmp_dict[\"instruction\"] = question\n",
    "    tmp_dict[\"input\"] = an\n",
    "    tmp_dict[\"output\"] = \" \"+an+\" is not a \"+ran2+\" and it does not have lipophilicity.\\n\"\n",
    "    data_list.append(tmp_dict)\n",
    "random.shuffle(data_list)"
   ]
  },
  {
   "cell_type": "code",
   "execution_count": 27,
   "id": "101bf6e1",
   "metadata": {},
   "outputs": [],
   "source": [
    "import json\n",
    "\n",
    "json_str = json.dumps(data_list, indent=4)\n",
    "with open('chembl.json', 'w', encoding='utf-8') as json_file:\n",
    "    json_file.write(json_str)"
   ]
  },
  {
   "cell_type": "code",
   "execution_count": null,
   "id": "e77195f1",
   "metadata": {},
   "outputs": [],
   "source": []
  }
 ],
 "metadata": {
  "kernelspec": {
   "display_name": "Python 3",
   "language": "python",
   "name": "python3"
  },
  "language_info": {
   "codemirror_mode": {
    "name": "ipython",
    "version": 3
   },
   "file_extension": ".py",
   "mimetype": "text/x-python",
   "name": "python",
   "nbconvert_exporter": "python",
   "pygments_lexer": "ipython3",
   "version": "3.6.13"
  }
 },
 "nbformat": 4,
 "nbformat_minor": 5
}
