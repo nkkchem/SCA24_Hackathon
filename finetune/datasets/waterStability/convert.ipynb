{
 "cells": [
  {
   "cell_type": "code",
   "execution_count": 19,
   "id": "0498b113",
   "metadata": {},
   "outputs": [],
   "source": [
    "import pandas as pd\n",
    "import random\n",
    "\n",
    "df = pd.read_csv('waterStability.csv')\n",
    "# key=csv column name, value=slot in Q\n",
    "slot = {\"name\":\"name\", \"Activated formula unit\":\"activated formula unit\", \"confidence\":\"confidence\", \"stability\":\"water stability\"}\n",
    "pair = [(\"Activated formula unit\", \"name\"), (\"name\", \"stability\", \"confidence\")]\n",
    "data_list = []\n",
    "for df_slice in df.iterrows():\n",
    "    for p in pair:\n",
    "        tmp_dict = {}\n",
    "        if len(p) != 3:\n",
    "            ran = random.randint(0,3)\n",
    "            if ran == 0:\n",
    "                question = \"What is \"+ slot[p[0]] + \" of given \"+ p[1] + \"? ->\"\n",
    "            elif ran == 1:\n",
    "                question = \"Write \"+ slot[p[0]] + \" of given \"+ p[1] + \". ->\"\n",
    "            elif ran == 2:\n",
    "                question = \"Given \" + p[1] + \", write its \"+ slot[p[0]] + \". ->\"\n",
    "            elif ran == 3:\n",
    "                question = \"Tell me \"+ slot[p[0]] + \" of given \"+ p[1] + \". ->\"\n",
    "            answer = df_slice[1][p[0]]\n",
    "            input_ = df_slice[1][p[1]]\n",
    "        else:\n",
    "            ran = random.randint(0,3)\n",
    "            ran1 = random.randint(0,1)\n",
    "            if ran1 == 0:\n",
    "                cond = \" at room temperature and atmospheric pressure\"\n",
    "            else:\n",
    "                cond = \" at normal measurement conditions\"\n",
    "            if ran == 0:\n",
    "                question = \"How is the \" + slot[p[1]] + \"of given \"+ p[1] + cond + \"? ->\"\n",
    "            elif ran == 1:\n",
    "                question = \"Write \" + p[1] + \" of given \"+ slot[p[0]] + cond+ \". ->\"\n",
    "            elif ran == 2:\n",
    "                question = \"Given \" + p[0] + \", write its \"+ slot[p[1]] + cond+ \". ->\"\n",
    "            elif ran == 3:\n",
    "                question = \"Tell me \"+ slot[p[1]] + \" of given \"+ p[0] + cond+ \". ->\"                                                \n",
    "            answer = \" It has \" + str(df_slice[1][p[1]]) + \" water stability with \" + str(df_slice[1][p[2]]) + \" confidence.\" \n",
    "            input_ = df_slice[1][p[0]]\n",
    "        tmp_dict[\"instruction\"] = question\n",
    "        tmp_dict[\"input\"] =  \" \"+str(input_)+\"\\n\"\n",
    "        tmp_dict[\"output\"] = \" \"+str(answer)+\"\\n\"\n",
    "        data_list.append(tmp_dict)"
   ]
  },
  {
   "cell_type": "code",
   "execution_count": 20,
   "id": "619c27ef",
   "metadata": {},
   "outputs": [
    {
     "name": "stdout",
     "output_type": "stream",
     "text": [
      "338\n",
      "6\n"
     ]
    }
   ],
   "source": [
    "# add unable to answer question\n",
    "print(len(data_list))\n",
    "add = int(len(data_list)/50)\n",
    "print(add)\n",
    "ran_list = random.sample(range(0,len(data_list)), add)\n",
    "for i, df_slice in enumerate(df.iterrows()):\n",
    "    if i in ran_list:\n",
    "        tmp_dict = {}\n",
    "        ran = random.randint(0,3)\n",
    "        if ran == 0:\n",
    "            question = \"How is the \" + slot[p[1]] + \"of given \"+ p[1] + \"? ->\"\n",
    "        elif ran == 1:\n",
    "            question = \"Write \" + p[1] + \" of given \"+ slot[p[0]] + \". ->\"\n",
    "        elif ran == 2:\n",
    "            question = \"Given \" + p[0] + \", write its \"+ slot[p[1]] + \". ->\"\n",
    "        elif ran == 3:\n",
    "            question = \"Tell me \"+ slot[p[1]] + \" of given \"+ p[0] + \". ->\"                                                \n",
    "        tmp_dict[\"instruction\"] = question\n",
    "        tmp_dict[\"input\"] = \" \"+str(df_slice[1][p[0]])+\"\\n\"\n",
    "        tmp_dict[\"output\"] = \" Unable to answer the question due to lack of conditions\\n\"\n",
    "        data_list.append(tmp_dict)"
   ]
  },
  {
   "cell_type": "code",
   "execution_count": 21,
   "id": "166b1e11",
   "metadata": {},
   "outputs": [
    {
     "name": "stdout",
     "output_type": "stream",
     "text": [
      "342\n",
      "11\n",
      "['surname', 'use', 'knife', 'distance', 'governor', 'goal', 'house', 'bag', 'correspondent', 'calendar']\n"
     ]
    }
   ],
   "source": [
    "import json\n",
    "\n",
    "# https://github.com/psobko/Common-English-Nouns\n",
    "with open('../2325_nouns.json', 'r', encoding='utf-8') as f:\n",
    "    nouns = json.load(f)\n",
    "print(len(data_list))\n",
    "# add no-answer question according to length of data_list\n",
    "add = int(len(data_list)/30)\n",
    "print(add)\n",
    "add_nouns = random.sample(nouns, add)\n",
    "print(add_nouns[:10])\n",
    "for an in add_nouns:\n",
    "    ran_ = random.randint(0,1)\n",
    "    if ran_ == 0:\n",
    "        p = pair[0]\n",
    "    else:\n",
    "        p = pair[1]\n",
    "    tmp_dict = {}\n",
    "    if len(p) != 3:\n",
    "        ran = random.randint(0,3)\n",
    "        if ran == 0:\n",
    "            question = \"What is \"+ slot[p[0]] + \" of given \"+ p[1] + \"? ->\"\n",
    "        elif ran == 1:\n",
    "            question = \"Write \"+ slot[p[0]] + \" of given \"+ p[1] + \". ->\"\n",
    "        elif ran == 2:\n",
    "            question = \"Given \" + p[1] + \", write its \"+ slot[p[0]] + \". ->\"\n",
    "        elif ran == 3:\n",
    "            question = \"Tell me \"+ slot[p[0]] + \" of given \"+ p[1] + \". ->\"\n",
    "        answer = an + \" has no \" + slot[p[0]] +\".\"\n",
    "    else:\n",
    "        ran = random.randint(0,3)\n",
    "        ran1 = random.randint(0,1)\n",
    "        if ran1 == 0:\n",
    "            cond = \" at room temperature and atmospheric pressure\"\n",
    "        else:\n",
    "            cond = \" at normal measurement conditions\"\n",
    "        if ran == 0:\n",
    "            question = \"How is the \" + slot[p[1]] + \"of given \"+ p[1] + cond + \"? ->\"\n",
    "        elif ran == 1:\n",
    "            question = \"Write \" + p[1] + \" of given \"+ slot[p[0]] + cond+ \". ->\"\n",
    "        elif ran == 2:\n",
    "            question = \"Given \" + p[0] + \", write its \"+ slot[p[1]] + cond+ \". ->\"\n",
    "        elif ran == 3:\n",
    "            question = \"Tell me \"+ slot[p[1]] + \" of given \"+ p[0] + cond+ \". ->\"                                                \n",
    "        answer = an + \" has no \"+slot[p[1]]+\".\" \n",
    "    tmp_dict[\"instruction\"] = question\n",
    "    tmp_dict[\"input\"] =  \" \"+an+\"\\n\"\n",
    "    tmp_dict[\"output\"] = \" \"+str(answer)+\"\\n\"\n",
    "    data_list.append(tmp_dict)"
   ]
  },
  {
   "cell_type": "code",
   "execution_count": 22,
   "id": "101bf6e1",
   "metadata": {},
   "outputs": [],
   "source": [
    "import json\n",
    "\n",
    "json_str = json.dumps(data_list, indent=4)\n",
    "with open('waterStability.json', 'w', encoding='utf-8') as json_file:\n",
    "    json_file.write(json_str)"
   ]
  },
  {
   "cell_type": "code",
   "execution_count": null,
   "id": "e77195f1",
   "metadata": {},
   "outputs": [],
   "source": []
  }
 ],
 "metadata": {
  "kernelspec": {
   "display_name": "Python 3",
   "language": "python",
   "name": "python3"
  },
  "language_info": {
   "codemirror_mode": {
    "name": "ipython",
    "version": 3
   },
   "file_extension": ".py",
   "mimetype": "text/x-python",
   "name": "python",
   "nbconvert_exporter": "python",
   "pygments_lexer": "ipython3",
   "version": "3.6.13"
  }
 },
 "nbformat": 4,
 "nbformat_minor": 5
}
